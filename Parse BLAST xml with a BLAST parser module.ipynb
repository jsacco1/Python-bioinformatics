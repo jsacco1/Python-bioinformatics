{
 "cells": [
  {
   "cell_type": "code",
   "execution_count": null,
   "metadata": {
    "collapsed": true
   },
   "outputs": [],
   "source": []
  },
  {
   "cell_type": "code",
   "execution_count": 20,
   "metadata": {
    "collapsed": false
   },
   "outputs": [],
   "source": [
    "#! /usr/bin/python\n",
    "\n",
    "from Bio.Seq import Seq\n",
    "from Bio.SeqRecord import SeqRecord\n",
    "from Bio.Blast import NCBIXML\n",
    "from Bio.Alphabet import IUPAC\n", #Standard nucleotide and protein alphabets defined by IUPAC.
    "from Bio import SeqIO\n",
    "import sys\n",
    "\n",
    "# Parses a BLAST output file in XML format and returns a tab separated table \n",
    "#ARGV[1] is the filepath to blast output in XML format\n",
    "#ARGV[2] is the parser output filepath\n",
    "#ARGV[3] is the output filepath to a list of cluster names (from the representative set of sequences) and hit names (from the blast)\n",
    "\n",
    "blast_records = NCBIXML.parse(open('./Blast_result/code_sample6.xml'))\n",
    "parsed_out = open('./ParsedXML', \"w\")\n",
    "hit_dict = open('./HitDict', \"w\")\n",
    "\n",
    "#Write the header to the parsed output\n",
    "parsed_out.write(\"Cluster_name\\t\" + \"Query_name\\t\" + \"Query_length\\t\" + \"Hit_name\\t\" + \"Query_start\\t\" + \"Query_end\\t\" + \"Frame\\t\" + \"Hit_start\\t\" + \"Hit_end\\t\" + \"ID\\n\")\n",
    "\n",
    "#Iterate through blast records\n",
    "for record in blast_records:\n",
    "    hit_counter = 0\n",
    "    #Get cluster name of the representative sequence\n",
    "    cluster_name = record.query.split()[0]\n",
    "    query_name = record.query.split()[1]\n",
    "    for desc in record.descriptions:\n",
    "        if desc.num_alignments < 2:\n",
    "            for aln in record.alignments:\n",
    "                hit_name = aln.hit_def\n",
    "            for hsp in aln.hsps:\n",
    "                if hit_counter == 0:\n",
    "                    if len(hsp.query) > 200:\n",
    "                        query_len = hsp.align_length\n",
    "                        query_start = hsp.query_start\n",
    "                        query_end = hsp.query_end\n",
    "                        hit_start = hsp.sbjct_start\n",
    "                        hit_end = hsp.sbjct_end\n",
    "                        frame = hsp.frame[1]\n",
    "                        hit_id = float(hsp.identities) / float(query_len)\n",
    "                        parsed_out.write(cluster_name + \"\\t\" + query_name + \"\\t\" + str(query_len) + \"\\t\" + hit_name + \"\\t\" + str(query_start) + \"\\t\" + str(query_end) + \"\\t\" + str(frame) + \"\\t\" + str(hit_start) + \"\\t\" + str(hit_end) + \"\\t\" + str(hit_id) + \"\\n\")\n",
    "                    hit_dict.write(cluster_name + \"\\t\" + hit_name + \"\\n\")\n",
    "                    hit_counter += 1\n",
    "hit_dict.close()\n",
    "parsed_out.close()"
   ]
  },
  {
   "cell_type": "code",
   "execution_count": null,
   "metadata": {
    "collapsed": true
   },
   "outputs": [],
   "source": []
  }
 ],
 "metadata": {
  "anaconda-cloud": {},
  "kernelspec": {
   "display_name": "Python [default]",
   "language": "python",
   "name": "python3"
  },
  "language_info": {
   "codemirror_mode": {
    "name": "ipython",
    "version": 3
   },
   "file_extension": ".py",
   "mimetype": "text/x-python",
   "name": "python",
   "nbconvert_exporter": "python",
   "pygments_lexer": "ipython3",
   "version": "3.5.2"
  }
 },
 "nbformat": 4,
 "nbformat_minor": 1
}
